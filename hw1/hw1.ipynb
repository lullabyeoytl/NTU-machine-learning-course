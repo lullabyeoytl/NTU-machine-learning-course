{
 "cells": [
  {
   "cell_type": "code",
   "execution_count": 1,
   "metadata": {},
   "outputs": [
    {
     "name": "stdout",
     "output_type": "stream",
     "text": [
      "45\n",
      "40.381\n",
      "40.045\n"
     ]
    }
   ],
   "source": [
    "import sys\n",
    "import random\n",
    "import numpy as np\n",
    "\n",
    "def load_data() :\n",
    "    X = []\n",
    "    Y = []\n",
    "    m = []\n",
    "    with open('hw1_15_train.dat') as f :\n",
    "        for line in f :\n",
    "            m.append([float(i) for i in line.split()])\n",
    "    mm = np.array(m)\n",
    "    row = len(m)\n",
    "    X = np.c_[np.ones(row), mm[::, :-1]]\n",
    "    Y = mm[:,-1]\n",
    "    return X, Y\n",
    "    \n",
    "def sign(x) :\n",
    "    if x > 0 :\n",
    "        return 1.\n",
    "    return -1.\n",
    "\n",
    "def train(X, Y, rand = False, alpha = 1) :\n",
    "    col = len(X[0])\n",
    "    n = len(X)\n",
    "    w = np.zeros(col)\n",
    "    ans = 0\n",
    "    idx = range(n)\n",
    "    if rand :\n",
    "        idx = random.sample(idx, n)\n",
    "    k = 0\n",
    "    update = False\n",
    "    while True :\n",
    "        i = idx[k]\n",
    "        if sign(np.dot(X[i], w)) != Y[i] :\n",
    "            ans += 1\n",
    "            w = w + alpha * Y[i] * X[i, :]\n",
    "            update = True\n",
    "        k += 1\n",
    "        if k == n :\n",
    "            if update == False :\n",
    "                break\n",
    "            k = 0\n",
    "            update = False\n",
    "    return ans\n",
    "\n",
    "def naive_cycle() :\n",
    "    X, Y = load_data()\n",
    "    ans = train(X, Y)\n",
    "    print(ans)\n",
    "\n",
    "def predefined_random(n, alpha = 1) :\n",
    "    X, Y = load_data()\n",
    "    cnt = 0\n",
    "    for i in range(0,n) :\n",
    "        cnt += train(X, Y, rand = True, alpha = alpha)\n",
    "    print (cnt / n)\n",
    "\n",
    "def main() :\n",
    "    naive_cycle()\n",
    "    predefined_random(2000)\n",
    "    predefined_random(2000, 0.5)\n",
    "\n",
    "if __name__ == '__main__' :\n",
    "    main()"
   ]
  },
  {
   "cell_type": "markdown",
   "metadata": {},
   "source": [
    "above : perceptron"
   ]
  },
  {
   "cell_type": "markdown",
   "metadata": {},
   "source": [
    "below:pocket"
   ]
  },
  {
   "cell_type": "code",
   "execution_count": 5,
   "metadata": {},
   "outputs": [
    {
     "name": "stdout",
     "output_type": "stream",
     "text": [
      "0.2980000000000004\n"
     ]
    }
   ],
   "source": [
    "import sys\n",
    "import random\n",
    "import numpy as np\n",
    "\n",
    "def load_data(file_path) :\n",
    "   X = []\n",
    "   Y = []\n",
    "   m = []\n",
    "   with open(file_path) as f :\n",
    "      for line in f :\n",
    "         m.append([float(i) for i in line.split()])\n",
    "   mm = np.array(m)\n",
    "   row = len(m)\n",
    "   X = np.c_[np.ones(row), mm[::, :-1]]\n",
    "   Y = mm[:,-1]\n",
    "   return X, Y\n",
    "\n",
    "def sign(x) :\n",
    "   if x > 0 :\n",
    "      return 1.\n",
    "   return -1.\n",
    "\n",
    "def test(X, Y, w) :\n",
    "   n = len(Y)\n",
    "   ne = sum([1 for i in range(n) if sign(np.dot(X[i], w)) != Y[i]])\n",
    "   return ne / float(n)\n",
    "\n",
    "def train(X, Y, updates = 50, pocket = True) :\n",
    "   col = len(X[0])\n",
    "   n = len(X)\n",
    "   w = np.zeros(col)\n",
    "   wg = w\n",
    "   error = test(X, Y, w)\n",
    "\n",
    "   for k in range(updates) :\n",
    "    idx = random.sample(range(n), n)\n",
    "    for i in idx :\n",
    "        if sign(np.dot(X[i], w)) != Y[i] :\n",
    "            w = w + Y[i] * X[i]\n",
    "            e = test(X, Y, w)\n",
    "            if e < error :\n",
    "               error = e\n",
    "               wg = w\n",
    "            break\n",
    "    if pocket :\n",
    "        return wg\n",
    "    return w\n",
    "\n",
    "def main() :\n",
    "   X, Y = load_data('hw1_18_train.dat')\n",
    "   TX, TY = load_data('hw1_18_test.dat')\n",
    "   error = 0\n",
    "   n = 200\n",
    "   for i in range(n) :\n",
    "      #w = train(X, Y, updates = 50)\n",
    "      #w = train(X, Y, updates = 50, pocket = False)  \n",
    "      w = train(X, Y, updates = 100, pocket = True)\n",
    "      error += test(TX, TY, w)\n",
    "   print(error / n)\n",
    "\n",
    "if __name__ == '__main__' :\n",
    "   main()"
   ]
  }
 ],
 "metadata": {
  "kernelspec": {
   "display_name": "Python 3",
   "language": "python",
   "name": "python3"
  },
  "language_info": {
   "codemirror_mode": {
    "name": "ipython",
    "version": 3
   },
   "file_extension": ".py",
   "mimetype": "text/x-python",
   "name": "python",
   "nbconvert_exporter": "python",
   "pygments_lexer": "ipython3",
   "version": "3.11.9"
  }
 },
 "nbformat": 4,
 "nbformat_minor": 2
}
