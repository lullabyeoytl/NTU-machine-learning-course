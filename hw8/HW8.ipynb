{
 "cells": [
  {
   "cell_type": "markdown",
   "metadata": {},
   "source": [
    "# ques 11-14\n",
    "\n",
    "*backprop alorithm*"
   ]
  },
  {
   "cell_type": "code",
   "execution_count": null,
   "metadata": {},
   "outputs": [],
   "source": [
    "import numpy as np\n",
    "M = [1,6,11,16,21]\n",
    "T = 50000\n",
    "ieta = 0.1\n",
    "r = 0.1\n",
    "\n",
    "trainging_data = np.loadtxt('hw8_nnet_train.dat')\n",
    "X,y = trainging_data[:,:-1],trainging_data[:,-1]\n",
    "n_data = X.shape[0]\n",
    "n_feature = X.shape[1]\n",
    "#print(n_data,n_feature)\n"
   ]
  },
  {
   "cell_type": "code",
   "execution_count": null,
   "metadata": {},
   "outputs": [],
   "source": [
    "one_append = (np.ones(n_data)).reshape(n_data,1)\n",
    "X = np.column_stack((one_append,X))"
   ]
  },
  {
   "cell_type": "code",
   "execution_count": null,
   "metadata": {},
   "outputs": [],
   "source": [
    "tanh = np.tanh\n",
    "def tanh_dif(X):\n",
    "    return 1-np.square(np.tanh(X))"
   ]
  },
  {
   "cell_type": "code",
   "execution_count": null,
   "metadata": {},
   "outputs": [],
   "source": [
    "def NNet(X,y,n_hidden,r,ieta,rotations = 500):\n",
    "    n_datas = X.shape[0]\n",
    "    n_features = X.shape[1]\n",
    "    \n",
    "    delta1 = np.random.random(size=(n_hidden,n_features))*2*r - r\n",
    "    delta2 = np.random.random(size=(n_hidden+1,1)) *2*r - r\n",
    "    \n",
    "    for i in range(rotations):\n",
    "        T = tanh(np.dot(X ,delta1.transpose()))\n",
    "        one_append = (np.ones(n_datas)).reshape(n_datas,1)\n",
    "        T = np.column_stack((one_append,T))\n",
    "        Yout = np.dot(T,delta2)\n",
    "        #print(Yout)\n",
    "        Eyout = Yout-y.reshape(n_datas,1)\n",
    "        delta1_diff = []\n",
    "        delta2_diff = []\n",
    "        for k in range(n_hidden):\n",
    "            s =[0,0,0]\n",
    "            for j in range(n_datas):\n",
    "                affix = 2 * (y[j]-Yout[j]) * delta2[k+1] * tanh_dif (np.dot(delta1[k],X[j]))\n",
    "                s += affix * X[j]\n",
    "            delta1_diff.append(s)\n",
    "        \n",
    "        delta1_diff = np.array(delta1_diff)\n",
    "        delta2_diff = np.multiply(np.dot(T.transpose(),Eyout),2)\n",
    "\n",
    "        delta1 = delta1-np.multiply(delta1_diff,ieta)\n",
    "        delta2 = delta2 -np.multiply(delta2_diff,ieta)\n",
    "        \n",
    "        \n",
    "    return delta1, delta2\n"
   ]
  },
  {
   "cell_type": "code",
   "execution_count": null,
   "metadata": {},
   "outputs": [],
   "source": [
    "TestData = np.loadtxt('hw8_nnet_test.dat')\n",
    "Xtest = TestData[:,:-1]\n",
    "Ytest = TestData[:,-1]\n",
    "n_test = Xtest.shape[0]\n",
    "one_append_test = (np.ones(n_test)).reshape(n_test,1)\n",
    "Xtest = np.column_stack((one_append_test,Xtest))\n",
    "# print(Xtest)\n"
   ]
  },
  {
   "cell_type": "code",
   "execution_count": null,
   "metadata": {},
   "outputs": [],
   "source": [
    "for m in M :\n",
    "    clf_delta1 , clf_delta2 = NNet(X,y,m,0.1,0.1)\n",
    "    #print(clf_delta1,clf_delta2)\n",
    "    T = tanh(np.dot(Xtest ,clf_delta1.transpose()))\n",
    "    one_appends = (np.ones(n_test)).reshape(n_test,1)\n",
    "    T = np.column_stack((one_appends,T))\n",
    "    Yout = np.dot(T,clf_delta2)\n",
    "    Y_Output = np.where(Yout>=0,1,-1)\n",
    "    print(np.mean(np.where(Y_Output==Ytest,0,1))) "
   ]
  },
  {
   "cell_type": "markdown",
   "metadata": {},
   "source": [
    "* 11 : M=6 better\n",
    "* 12: r = 0.1 better\n",
    "* 13 : ieta = 0.01 better\n"
   ]
  },
  {
   "cell_type": "markdown",
   "metadata": {},
   "source": [
    "# KNN algorithm"
   ]
  },
  {
   "cell_type": "code",
   "execution_count": 148,
   "metadata": {},
   "outputs": [
    {
     "name": "stdout",
     "output_type": "stream",
     "text": [
      "0.0\n",
      "0.344\n"
     ]
    }
   ],
   "source": [
    "import numpy as np\n",
    "import matplotlib.pyplot as plt \n",
    "\n",
    "train = np.loadtxt('hw8_nbor_train.dat')\n",
    "test = np.loadtxt('hw8_nbor_test.dat')\n",
    "X_train , Y_train = train[:,:-1],train[:,-1]\n",
    "X_test,Y_test = test[:,:-1],test[:,-1]\n",
    "\n",
    "class KNNclassifier:\n",
    "    def __init__(self,n_neighbors) :\n",
    "        self.n_neighbors = n_neighbors\n",
    "    \n",
    "    def fit(self,X,y):\n",
    "        self.X = X\n",
    "        self.y = y\n",
    "        return self\n",
    "    \n",
    "    def predict(self,X):\n",
    "        # 计算距离\n",
    "        d1 = np.sum(X**2,axis = 1).reshape(-1,1)\n",
    "        d2 = np.sum(self.X**2 , axis=1).reshape(1,-1)\n",
    "        dist = d1 + d2 - 2*X.dot(self.X.T)\n",
    "        #最近k点的索引\n",
    "        index = np.argsort(dist,axis=1)[:,:self.n_neighbors]\n",
    "        #计算预测结果\n",
    "        y = np.sign(np.sum(self.y[index],axis=1))\n",
    "\n",
    "        return y\n",
    "\n",
    "# 15\n",
    "knn_one_clf = KNNclassifier(n_neighbors=1)\n",
    "knn_one_clf = knn_one_clf.fit(X_train,Y_train)\n",
    "y_vali = knn_one_clf.predict(X_train)\n",
    "ein = np.mean(y_vali != Y_train)\n",
    "print(ein)\n",
    "\n",
    "#16\n",
    "yout=knn_one_clf.predict(X_test)\n",
    "eout = np.mean(yout != Y_test)\n",
    "print(eout)\n"
   ]
  },
  {
   "cell_type": "markdown",
   "metadata": {},
   "source": [
    "# 均值聚类算法\n",
    "*（挺优美的方法）*"
   ]
  },
  {
   "cell_type": "code",
   "execution_count": null,
   "metadata": {},
   "outputs": [],
   "source": [
    "import numpy as np\n",
    "import matplotlib.pyplot as plt \n",
    "\n",
    "class Kmeans():\n",
    "    def __init__(self,k,D=1e-5):\n",
    "        self.k = k\n",
    "        self.cluster_centre = []    \n",
    "        self.labels = []\n",
    "        self.D = D       # gradient descent stump\n",
    "    \n",
    "    def fit(self,X):\n",
    "        n_data,n_dimensions = X.shape\n",
    "        labels = np.zeros(n_data,dtype = int)\n",
    "        index = np.random.randint(0,n_data,self.k)\n",
    "        cluster_centers = X[index]\n",
    "        cluster_centers_pre = np.copy(cluster_centers) \n",
    "        delta = 1\n",
    "\n",
    "        while delta>=self.D:\n",
    "            d1 = np.sum(X**2,axis=1).reshape(-1,1)\n",
    "            d2 = np.sum(cluster_centers**2,axis=1).reshape(1,-1)\n",
    "            dist = d1+d2 - 2*X.dot(cluster_centers.T)\n",
    "\n",
    "            # Findning nearest center\n",
    "            labels = np.argmin(dist,axis=1)\n",
    "            # Refind center\n",
    "            for i in range(self.k):\n",
    "                index = (labels==i)\n",
    "                x = X[index]\n",
    "                if len(x)!=0:\n",
    "                    cluster_centers[i] = np.mean(x,axis=0)\n",
    "\n",
    "            delta = np.linalg.norm(cluster_centers-cluster_centers_pre)\n",
    "\n",
    "            if delta < self.D:\n",
    "                break\n",
    "\n",
    "            cluster_centers_pre = np.copy(cluster_centers)\n",
    "            self.cluster_centre = np.copy(cluster_centers)\n",
    "            self.labels = labels\n",
    "\n",
    "    def predict(self,X):\n",
    "        d1 = np.sum(X**2,axis=1).reshape(-1,1)\n",
    "        d2 = np.sum(self.cluster_centre**2,axis=1).reshape(1,-1)\n",
    "        dist = d1 +d2 - 2*X.dot(self.cluster_centre.T)\n",
    "\n",
    "        self.cluster_centre = np.argmin(dist,axis=1)\n",
    "        return self.cluster_centre\n",
    "     \n",
    "\n"
   ]
  }
 ],
 "metadata": {
  "kernelspec": {
   "display_name": "Python 3",
   "language": "python",
   "name": "python3"
  },
  "language_info": {
   "codemirror_mode": {
    "name": "ipython",
    "version": 3
   },
   "file_extension": ".py",
   "mimetype": "text/x-python",
   "name": "python",
   "nbconvert_exporter": "python",
   "pygments_lexer": "ipython3",
   "version": "3.11.9"
  }
 },
 "nbformat": 4,
 "nbformat_minor": 2
}
